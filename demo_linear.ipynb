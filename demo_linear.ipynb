{
 "cells": [
  {
   "cell_type": "code",
   "execution_count": 2,
   "id": "2f208e99",
   "metadata": {},
   "outputs": [
    {
     "name": "stdout",
     "output_type": "stream",
     "text": [
      "The autoreload extension is already loaded. To reload it, use:\n",
      "  %reload_ext autoreload\n"
     ]
    },
    {
     "data": {
      "application/javascript": "IPython.notebook.set_autosave_interval(0)"
     },
     "metadata": {},
     "output_type": "display_data"
    },
    {
     "name": "stdout",
     "output_type": "stream",
     "text": [
      "Autosave disabled\n"
     ]
    }
   ],
   "source": [
    "%load_ext autoreload\n",
    "%autoreload 2\n",
    "%autosave 0"
   ]
  },
  {
   "cell_type": "code",
   "execution_count": 4,
   "id": "0c605969",
   "metadata": {},
   "outputs": [],
   "source": [
    "from jupyterthemes import jtplot\n",
    "from matplotlib import pyplot as plt\n",
    "from matplotlib.animation import FuncAnimation\n",
    "from IPython.display import HTML"
   ]
  },
  {
   "cell_type": "code",
   "execution_count": 5,
   "id": "d9b9d4ad",
   "metadata": {},
   "outputs": [],
   "source": [
    "import match"
   ]
  },
  {
   "cell_type": "code",
   "execution_count": 16,
   "id": "6f21ce38",
   "metadata": {},
   "outputs": [],
   "source": [
    "jtplot.style(context=\"talk\")\n",
    "\n",
    "\n",
    "def plot_linear(x, *, yt=None, yp=None, ypl=None, ax=None):\n",
    "    \"\"\"Plot a simple linear model.\n",
    "\n",
    "    Args:\n",
    "        x (Matrix): x-axis data (independent)\n",
    "        yt (Matrix): y-axis data for true/target values (dependent)\n",
    "        yp (Matrix): y-axis data for predicted values (dependent)\n",
    "        ypl (str): label for prediction line\n",
    "        ax (axes): matplotlib axes for plotting\n",
    "    \"\"\"\n",
    "    # Use 3D projection if x has two dimensions\n",
    "    three_d = x.shape[1] == 2\n",
    "    plot_args = {\"projection\": \"3d\"} if three_d else {}\n",
    "\n",
    "    # Create tha axis if one is not provided\n",
    "    if not ax:\n",
    "        _, ax = plt.subplots(figsize=(8,4), subplot_kw=plot_args)\n",
    "\n",
    "    # Grab the underlying matrix data (bit of a peek beneath / hack)\n",
    "    xT = x.T.data.vals\n",
    "\n",
    "    # Plot the \"true\" data if it exists\n",
    "    if yt:\n",
    "        ytT = yt.T.data.vals\n",
    "        if three_d:\n",
    "            ax.scatter(xT[0], xT[1], ytT[0], label=\"Target\")\n",
    "        else:\n",
    "            ax.scatter(xT[0], ytT[0], label=\"Target\")\n",
    "\n",
    "    # Plot the predicted data\n",
    "    if yp:\n",
    "        # Use \"Prediction\" as the default label if not is not provided\n",
    "        ypl = \"Prediction\" if not ypl else ypl\n",
    "        ypT = yp.T.data.vals\n",
    "\n",
    "        if three_d:\n",
    "            ax.scatter(xT[0], xT[1], ypT[0], label=ypl)\n",
    "        else:\n",
    "            plt.plot(xT[0], ypT[0], linestyle=\"--\", label=ypl)\n",
    "\n",
    "    plt.legend()\n",
    "\n",
    "    return ax"
   ]
  },
  {
   "cell_type": "markdown",
   "id": "76030df7",
   "metadata": {},
   "source": [
    "# Create dummy data with some noise"
   ]
  },
  {
   "cell_type": "code",
   "execution_count": 20,
   "id": "242ad476",
   "metadata": {},
   "outputs": [],
   "source": [
    "num_points = 50\n",
    "num_features = 1\n",
    "\n",
    "x = match.randn(num_points, num_features)\n",
    "y_target = x * 5 + 10\n",
    "\n",
    "nx = x.shape[1]\n",
    "ny = y_target.shape[1]"
   ]
  },
  {
   "cell_type": "code",
   "execution_count": 21,
   "id": "445ee77e",
   "metadata": {},
   "outputs": [
    {
     "data": {
      "image/png": "[encoded data removed]",
      "text/plain": [
       "<Figure size 800x400 with 1 Axes>"
      ]
     },
     "metadata": {},
     "output_type": "display_data"
    }
   ],
   "source": [
    "_ = plot_linear(x, yt=y_target)"
   ]
  },
  {
   "cell_type": "markdown",
   "id": "f5e93841",
   "metadata": {},
   "source": [
    "# Train a single-feature linear model"
   ]
  },
  {
   "cell_type": "code",
   "execution_count": 35,
   "id": "29acb4a9",
   "metadata": {
    "scrolled": true
   },
   "outputs": [
    {
     "ename": "NotImplementedError",
     "evalue": "",
     "output_type": "error",
     "traceback": [
      "\u001b[0;31m---------------------------------------------------------------------------\u001b[0m",
      "\u001b[0;31mNotImplementedError\u001b[0m                       Traceback (most recent call last)",
      "\u001b[1;32m/Users/sameermalik/Documents/Pomona/YEAR_4_SENIOR/F23/PYMATCH/pymatch/demo_linear.ipynb Cell 9\u001b[0m line \u001b[0;36m3\n\u001b[1;32m     <a href='vscode-notebook-cell:/Users/sameermalik/Documents/Pomona/YEAR_4_SENIOR/F23/PYMATCH/pymatch/demo_linear.ipynb#X11sZmlsZQ%3D%3D?line=33'>34</a>\u001b[0m \u001b[39m# Backpropagation\u001b[39;00m\n\u001b[1;32m     <a href='vscode-notebook-cell:/Users/sameermalik/Documents/Pomona/YEAR_4_SENIOR/F23/PYMATCH/pymatch/demo_linear.ipynb#X11sZmlsZQ%3D%3D?line=34'>35</a>\u001b[0m model\u001b[39m.\u001b[39mzero_grad()\n\u001b[0;32m---> <a href='vscode-notebook-cell:/Users/sameermalik/Documents/Pomona/YEAR_4_SENIOR/F23/PYMATCH/pymatch/demo_linear.ipynb#X11sZmlsZQ%3D%3D?line=35'>36</a>\u001b[0m loss\u001b[39m.\u001b[39;49mbackward()\n\u001b[1;32m     <a href='vscode-notebook-cell:/Users/sameermalik/Documents/Pomona/YEAR_4_SENIOR/F23/PYMATCH/pymatch/demo_linear.ipynb#X11sZmlsZQ%3D%3D?line=37'>38</a>\u001b[0m \u001b[39m# Update parameters\u001b[39;00m\n\u001b[1;32m     <a href='vscode-notebook-cell:/Users/sameermalik/Documents/Pomona/YEAR_4_SENIOR/F23/PYMATCH/pymatch/demo_linear.ipynb#X11sZmlsZQ%3D%3D?line=38'>39</a>\u001b[0m \u001b[39mfor\u001b[39;00m param \u001b[39min\u001b[39;00m model\u001b[39m.\u001b[39mparameters():\n",
      "File \u001b[0;32m~/Documents/Pomona/YEAR_4_SENIOR/F23/PYMATCH/pymatch/match/tensor.py:51\u001b[0m, in \u001b[0;36mTensor.backward\u001b[0;34m(self)\u001b[0m\n\u001b[1;32m     49\u001b[0m info(\u001b[39m\"\u001b[39m\u001b[39mComputing gradients using backpropagation.\u001b[39m\u001b[39m\"\u001b[39m)\n\u001b[1;32m     50\u001b[0m \u001b[39mfor\u001b[39;00m node \u001b[39min\u001b[39;00m \u001b[39mreversed\u001b[39m(sorted_nodes):\n\u001b[0;32m---> 51\u001b[0m     node\u001b[39m.\u001b[39;49m_gradient()\n",
      "File \u001b[0;32m~/Documents/Pomona/YEAR_4_SENIOR/F23/PYMATCH/pymatch/match/tensor.py:123\u001b[0m, in \u001b[0;36mTensor.__add__.<locals>._gradient\u001b[0;34m()\u001b[0m\n\u001b[1;32m    121\u001b[0m \u001b[39mif\u001b[39;00m \u001b[39misinstance\u001b[39m(rhs, Tensor):\n\u001b[1;32m    122\u001b[0m     info(\u001b[39mf\u001b[39m\u001b[39m\"\u001b[39m\u001b[39mGradient of addition (RHS). Shape: \u001b[39m\u001b[39m{\u001b[39;00m\u001b[39mself\u001b[39m\u001b[39m.\u001b[39mshape\u001b[39m}\u001b[39;00m\u001b[39m\"\u001b[39m)\n\u001b[0;32m--> 123\u001b[0m     rhs\u001b[39m.\u001b[39mgrad \u001b[39m+\u001b[39m\u001b[39m=\u001b[39m result\u001b[39m.\u001b[39;49mgrad\u001b[39m.\u001b[39;49munbroadcast(\u001b[39m*\u001b[39;49mrhs\u001b[39m.\u001b[39;49mshape)\n",
      "File \u001b[0;32m~/Documents/Pomona/YEAR_4_SENIOR/F23/PYMATCH/pymatch/match/tensordata.py:411\u001b[0m, in \u001b[0;36mTensorData.unbroadcast\u001b[0;34m(self, *shape)\u001b[0m\n\u001b[1;32m    409\u001b[0m     \u001b[39mreturn\u001b[39;00m \u001b[39mself\u001b[39m\n\u001b[1;32m    410\u001b[0m \u001b[39m# TODO (SAM) : Complete unbroadcast.\u001b[39;00m\n\u001b[0;32m--> 411\u001b[0m \u001b[39mraise\u001b[39;00m \u001b[39mNotImplementedError\u001b[39;00m\n",
      "\u001b[0;31mNotImplementedError\u001b[0m: "
     ]
    }
   ],
   "source": [
    "num_epochs = 10\n",
    "learning_rate = 0.1\n",
    "\n",
    "loss_fcn = match.nn.MSELoss()\n",
    "\n",
    "# A single-neuron model\n",
    "model = match.nn.Linear(nx, ny)\n",
    "\n",
    "\"\"\"\n",
    "# An alternative method for constructing the model\n",
    "class Neuron(match.nn.Module):\n",
    "    def __init__(self):\n",
    "        super().__init__()\n",
    "        self.linear = match.nn.Linear(nx, ny)\n",
    "\n",
    "    def forward(self, x):\n",
    "        return self.linear(x)\n",
    "\n",
    "model = Neuron()\n",
    "\"\"\"\n",
    "\n",
    "# Save model predictions for each epoch so that we can\n",
    "# plot progress\n",
    "predictions = []\n",
    "\n",
    "for epoch in range(num_epochs):\n",
    "\n",
    "    # Compute model output\n",
    "    y_prediction = model(x)\n",
    "    # Save prediction and a corresponding label\n",
    "    loss = loss_fcn(y_prediction, y_target)\n",
    "    predictions.append((y_prediction, epoch + 1, loss.data.vals[0]))\n",
    "\n",
    "    # Backpropagation\n",
    "    model.zero_grad()\n",
    "    loss.backward()\n",
    "\n",
    "    # Update parameters\n",
    "    for param in model.parameters():\n",
    "        param.data = param.data - learning_rate * param.grad"
   ]
  },
  {
   "cell_type": "code",
   "execution_count": null,
   "id": "55167b9a",
   "metadata": {},
   "outputs": [],
   "source": [
    "_, (ax_loss, ax_lines) = plt.subplots(1, 2, figsize=(8, 4))\n",
    "\n",
    "losses = list(zip(*predictions))[2]\n",
    "ax_loss.plot(range(1, num_epochs + 1), losses)\n",
    "ax_loss.set_title(\"Loss vs. Epoch\")\n",
    "\n",
    "plot_linear(x, yt=y_target, ax=ax_lines)\n",
    "for y_prediction, epoch, loss in predictions:\n",
    "    label = f\"{epoch:>3}/{num_epochs}: {loss:5.2f}\"\n",
    "    plot_linear(x, yp=y_prediction, ypl=label, ax=ax_lines)\n",
    "_ = ax_lines.set_title(\"Model Improvement\")"
   ]
  },
  {
   "cell_type": "code",
   "execution_count": null,
   "id": "f875f57b",
   "metadata": {},
   "outputs": [],
   "source": [
    "fig, ax = plt.subplots(figsize=(8, 4))\n",
    "\n",
    "ax.set_xlim([-2.5, 2.5])\n",
    "ax.set_ylim([-5, 20])\n",
    "\n",
    "line, = ax.plot([], [], color=\"r\", lw=2, label=\"Prediction\")\n",
    "\n",
    "xT = x.T.data.vals\n",
    "ytT = y_target.T.data.vals\n",
    "\n",
    "ax.scatter(xT, ytT, lw=2, label=\"Target\")\n",
    "\n",
    "ax.legend()\n",
    "\n",
    "def animate(frame):\n",
    "    ypT = frame[0].T.data.vals\n",
    "    line.set_data(xT, ypT)\n",
    "    return line,\n",
    "\n",
    "animation = FuncAnimation(fig, animate, predictions)"
   ]
  },
  {
   "cell_type": "code",
   "execution_count": null,
   "id": "a36e7058",
   "metadata": {},
   "outputs": [],
   "source": [
    "HTML(animation.to_jshtml())"
   ]
  },
  {
   "cell_type": "code",
   "execution_count": null,
   "id": "8e1f79f5",
   "metadata": {},
   "outputs": [],
   "source": [
    "# animation.save(\"demo_linear_1d.mp4\")"
   ]
  },
  {
   "cell_type": "markdown",
   "id": "41411a49",
   "metadata": {},
   "source": [
    "# Train a two-feature linear model¶"
   ]
  },
  {
   "cell_type": "code",
   "execution_count": null,
   "id": "da508799",
   "metadata": {},
   "outputs": [],
   "source": [
    "num_points = 100\n",
    "num_features = 2\n",
    "\n",
    "x = match.randn(num_points, num_features)\n",
    "true_weights = match.mat([[2.0, -1.0]])\n",
    "y_target = x @ true_weights.T + 0.5\n",
    "\n",
    "nx = x.shape[1]\n",
    "ny = y_target.shape[1]"
   ]
  },
  {
   "cell_type": "code",
   "execution_count": null,
   "id": "ba1d4770",
   "metadata": {},
   "outputs": [],
   "source": [
    "plot_linear(x, yt=y_target)\n",
    "_ = plt.title(\"Interactive Plot (Click and Drag Me)\")"
   ]
  },
  {
   "cell_type": "code",
   "execution_count": null,
   "id": "8779ae54",
   "metadata": {},
   "outputs": [],
   "source": [
    "num_epochs = 10\n",
    "learning_rate = 0.1\n",
    "\n",
    "loss_fcn = match.nn.MSELoss()\n",
    "\n",
    "# A single-neuron model\n",
    "model = match.nn.Linear(nx, ny)\n",
    "\n",
    "# Save model predictions for each epoch so that we can\n",
    "# plot progress\n",
    "predictions = []\n",
    "\n",
    "for epoch in range(num_epochs):\n",
    "\n",
    "    # Compute model output\n",
    "    y_prediction = model(x)\n",
    "    # Save prediction and a corresponding label\n",
    "    loss = loss_fcn(y_prediction, y_target)\n",
    "    predictions.append((y_prediction, epoch + 1, loss.data.vals[0][0]))\n",
    "\n",
    "    # Backpropagation\n",
    "    model.zero_grad()\n",
    "    loss.backward()\n",
    "\n",
    "    # Update parameters\n",
    "    for param in model.parameters():\n",
    "        param.data = param.data - learning_rate * param.grad"
   ]
  },
  {
   "cell_type": "code",
   "execution_count": null,
   "id": "b4069065",
   "metadata": {},
   "outputs": [],
   "source": [
    "fig = plt.figure(figsize=(8, 4))\n",
    "\n",
    "ax_loss = fig.add_subplot(121)\n",
    "\n",
    "losses = list(zip(*predictions))[2]\n",
    "ax_loss.plot(range(1, num_epochs + 1), losses)\n",
    "ax_loss.set_title(\"Loss vs. Epoch\")\n",
    "\n",
    "# Plot just the first and final models\n",
    "ax_lines = fig.add_subplot(122, projection=\"3d\")\n",
    "plot_linear(x, yt=y_target, ax=ax_lines)\n",
    "ax_lines.set_title(\"Model Predictions (Click and Drag)\")\n",
    "\n",
    "# First model\n",
    "yp, e, l = predictions[0]\n",
    "plot_linear(x, yp=yp, ypl=f\"{e:>3}/{num_epochs}: {l:5.2f}\", ax=ax_lines)\n",
    "\n",
    "# Final model\n",
    "yp, e, l = predictions[-1]\n",
    "_ = plot_linear(x, yp=yp, ypl=f\"{e:>3}/{num_epochs}: {l:5.2f}\", ax=ax_lines)"
   ]
  },
  {
   "cell_type": "code",
   "execution_count": null,
   "id": "fc4fa10c",
   "metadata": {},
   "outputs": [],
   "source": []
  }
 ],
 "metadata": {
  "jupytext": {
   "encoding": "# -*- coding: utf-8 -*-",
   "formats": "ipynb,py:percent"
  },
  "kernelspec": {
   "display_name": "Python 3 (ipykernel)",
   "language": "python",
   "name": "python3"
  },
  "language_info": {
   "codemirror_mode": {
    "name": "ipython",
    "version": 3
   },
   "file_extension": ".py",
   "mimetype": "text/x-python",
   "name": "python",
   "nbconvert_exporter": "python",
   "pygments_lexer": "ipython3",
   "version": "3.11.0"
  }
 },
 "nbformat": 4,
 "nbformat_minor": 5
}
